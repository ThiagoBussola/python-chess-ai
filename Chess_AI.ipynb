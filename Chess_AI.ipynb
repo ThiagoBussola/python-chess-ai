{
  "nbformat": 4,
  "nbformat_minor": 0,
  "metadata": {
    "colab": {
      "name": "Chess AI",
      "provenance": [],
      "toc_visible": true,
      "authorship_tag": "ABX9TyP2GxYwb1kwG1lgpAK1gRky",
      "include_colab_link": true
    },
    "kernelspec": {
      "name": "python3",
      "display_name": "Python 3"
    },
    "language_info": {
      "name": "python"
    }
  },
  "cells": [
    {
      "cell_type": "markdown",
      "metadata": {
        "id": "view-in-github",
        "colab_type": "text"
      },
      "source": [
        "<a href=\"https://colab.research.google.com/github/ThiagoBussola/python-chess-ai/blob/main/Chess_AI.ipynb\" target=\"_parent\"><img src=\"https://colab.research.google.com/assets/colab-badge.svg\" alt=\"Open In Colab\"/></a>"
      ]
    },
    {
      "cell_type": "code",
      "execution_count": null,
      "metadata": {
        "id": "8M-ZqEPDEq2b"
      },
      "outputs": [],
      "source": [
        "!pip install python-chess\n"
      ]
    },
    {
      "cell_type": "code",
      "source": [
        "import chess\n",
        "board = chess.Board()\n",
        "board"
      ],
      "metadata": {
        "id": "0I8Qf74bHru8"
      },
      "execution_count": null,
      "outputs": []
    },
    {
      "cell_type": "code",
      "source": [
        ""
      ],
      "metadata": {
        "id": "47uUEDSXHzJ6"
      },
      "execution_count": null,
      "outputs": []
    }
  ]
}